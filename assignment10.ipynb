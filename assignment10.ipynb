{
 "cells": [
  {
   "cell_type": "markdown",
   "id": "5f079217-2b20-4c23-84d5-e934a5471caf",
   "metadata": {},
   "source": [
    "Question-No.1"
   ]
  },
  {
   "cell_type": "code",
   "execution_count": 29,
   "id": "0246288f-16ac-40f7-a8a8-a888354fbdf9",
   "metadata": {},
   "outputs": [],
   "source": [
    "class vehicle:\n",
    "    def __init__(self,name_of_vehicle, max_speed ,average_of_vehicle):\n",
    "        \n",
    "        self.name_of_vehicle= name_of_vehicle\n",
    "        self.max_speed= max_speed\n",
    "        self.average_of_vehicle= average_of_vehicle\n",
    "        \n",
    "    def vehicle_details(self):\n",
    "        return self.name_of_vehicle, self.max_speed, self.average_of_vehicle"
   ]
  },
  {
   "cell_type": "code",
   "execution_count": 30,
   "id": "a8446ab9-38ec-4673-bdf0-53987386c87c",
   "metadata": {},
   "outputs": [],
   "source": [
    "obj= vehicle(\"suzuki\", 120,45)"
   ]
  },
  {
   "cell_type": "code",
   "execution_count": 31,
   "id": "a3bae70f-32fa-4112-8c2a-fe1ba30513a6",
   "metadata": {},
   "outputs": [
    {
     "data": {
      "text/plain": [
       "('suzuki', 120, 45)"
      ]
     },
     "execution_count": 31,
     "metadata": {},
     "output_type": "execute_result"
    }
   ],
   "source": [
    "obj.vehicle_details()"
   ]
  },
  {
   "cell_type": "markdown",
   "id": "d5626fdd-a118-4594-bdde-6386d739962d",
   "metadata": {},
   "source": [
    "Question-No.2"
   ]
  },
  {
   "cell_type": "code",
   "execution_count": 32,
   "id": "0e1f9209-2815-4c05-8474-d33dadebd188",
   "metadata": {},
   "outputs": [],
   "source": [
    "class Car(vehicle):\n",
    "    def seating_capacity(self, capacity):\n",
    "        return f\"The {self.name_of_vehicle} has a seating capacity of {capacity}.\"\n",
    "\n",
    "\n"
   ]
  },
  {
   "cell_type": "markdown",
   "id": "b7a5cd54-cca0-403c-9233-9c2c42065207",
   "metadata": {},
   "source": [
    "Question-No.3"
   ]
  },
  {
   "cell_type": "markdown",
   "id": "0a90f0cf-4b4d-47f2-8fc0-f2dd25616773",
   "metadata": {},
   "source": [
    "Multiple Inheritance\n",
    "\n",
    "When a class is derived from more than one base class it is called multiple Inheritance. The derived class inherits all the features of the base case.  Example-->"
   ]
  },
  {
   "cell_type": "code",
   "execution_count": 11,
   "id": "832aba0f-c6d9-4074-bf69-ecbef4cc263e",
   "metadata": {},
   "outputs": [],
   "source": [
    "class base1(object):\n",
    "    def __init__(self):\n",
    "        self.str1= \"sonam\"\n",
    "        print(\"anushaka\")\n",
    "        \n",
    "class base2(object):\n",
    "    def __init__(self):\n",
    "        self.str2=\"kuldeep\"\n",
    "        print(\"karan\")\n",
    "        \n",
    "class derived(base1 ,base2):\n",
    "    def __init__(self):\n",
    "        base1.__init__(self)\n",
    "        base2.__init__(self)\n",
    "        print(\"derived\")\n",
    "    def printstrs(self):\n",
    "        print(self.str1,self.str2)\n",
    "    "
   ]
  },
  {
   "cell_type": "code",
   "execution_count": 12,
   "id": "3fa60f16-d3b0-419f-847f-10b8cf0d214a",
   "metadata": {},
   "outputs": [
    {
     "name": "stdout",
     "output_type": "stream",
     "text": [
      "anushaka\n",
      "karan\n",
      "derived\n",
      "sonam kuldeep\n"
     ]
    }
   ],
   "source": [
    "ob=derived()\n",
    "ob.printstrs()"
   ]
  },
  {
   "cell_type": "markdown",
   "id": "c5ef8a02-ecb5-4bbe-8456-e59d60fdbf88",
   "metadata": {},
   "source": [
    "Question NO.4"
   ]
  },
  {
   "cell_type": "markdown",
   "id": "027900c6-9868-4d17-897f-eeded8c10afb",
   "metadata": {},
   "source": [
    "In Python, getters and setters are methods used to get and set the values of class attributes or properties. They provide a way to access and modify the values of private attributes indirectly, allowing for better control over the class's data."
   ]
  },
  {
   "cell_type": "code",
   "execution_count": 34,
   "id": "1afd8de2-379c-4614-9ba0-8eaa3c81ade2",
   "metadata": {},
   "outputs": [],
   "source": [
    "class MyClass:\n",
    "    def __init__(self):\n",
    "        self._my_attribute = None\n",
    "\n",
    "    def get_my_attribute(self):\n",
    "        return self._my_attribute\n",
    "\n",
    "    def set_my_attribute(self, value):\n",
    "        self._my_attribute = value\n"
   ]
  },
  {
   "cell_type": "code",
   "execution_count": 38,
   "id": "47f0226e-bc10-43f7-afd3-912e66ea54c3",
   "metadata": {},
   "outputs": [
    {
     "data": {
      "text/plain": [
       "'hello Mr.'"
      ]
     },
     "execution_count": 38,
     "metadata": {},
     "output_type": "execute_result"
    }
   ],
   "source": [
    "my_obj=MyClass()\n",
    "my_obj.set_my_attribute(\"hello Mr.\")\n",
    "my_obj.get_my_attribute()"
   ]
  },
  {
   "cell_type": "markdown",
   "id": "51cc178c-604c-42ab-9678-ef6b28cf0ecb",
   "metadata": {},
   "source": [
    "Question No.5"
   ]
  },
  {
   "cell_type": "markdown",
   "id": "6b105b91-0da0-4aec-9e7a-ffda7985dc52",
   "metadata": {},
   "source": [
    "Method overriding is a concept in object oriented programming where a subclass provide its own implementation of a merhod the is already defined in its parent class. The method in the subclass overrides the method with the same name in the parent class, allowing the subclass to provide a specialized implementation"
   ]
  },
  {
   "cell_type": "code",
   "execution_count": 39,
   "id": "4f4f4572-2abc-4f54-835c-2659b8e7e1f8",
   "metadata": {},
   "outputs": [],
   "source": [
    "class Animal:\n",
    "    def sound(self):\n",
    "        print(\"Animal makes a sound\")\n",
    "\n",
    "class Dog(Animal):\n",
    "    def sound(self):\n",
    "        print(\"Dog barks\")\n",
    "\n",
    "class Cat(Animal):\n",
    "    def sound(self):\n",
    "        print(\"Cat meows\")\n",
    "\n",
    "\n"
   ]
  },
  {
   "cell_type": "code",
   "execution_count": null,
   "id": "8bb0a6f3-de2c-414a-be87-01233fa0ca8e",
   "metadata": {},
   "outputs": [],
   "source": [
    "# Create instances of Dog and Cat\n",
    "dog = Dog()\n",
    "cat = Cat()\n",
    "\n",
    "# Call the sound method on each instance\n",
    "dog.sound()  # Output: \"Dog barks\"\n",
    "cat.sound()  # Output: \"Cat meows\""
   ]
  }
 ],
 "metadata": {
  "kernelspec": {
   "display_name": "Python 3 (ipykernel)",
   "language": "python",
   "name": "python3"
  },
  "language_info": {
   "codemirror_mode": {
    "name": "ipython",
    "version": 3
   },
   "file_extension": ".py",
   "mimetype": "text/x-python",
   "name": "python",
   "nbconvert_exporter": "python",
   "pygments_lexer": "ipython3",
   "version": "3.10.8"
  }
 },
 "nbformat": 4,
 "nbformat_minor": 5
}
